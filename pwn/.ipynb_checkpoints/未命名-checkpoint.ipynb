{
 "cells": [
  {
   "cell_type": "code",
   "execution_count": 12,
   "id": "48474f50-0578-4c0f-aaca-b6be47ec9c7a",
   "metadata": {},
   "outputs": [],
   "source": [
    "import os\n",
    "def walkFile(file):\n",
    "\n",
    "    for root, dirs, files in os.walk(file):\n",
    "        # root 表示当前访问的文件夹路径\n",
    "        # dirs 表示该文件夹下的子目录名list\n",
    "        # files 表示该文件夹下的文件list\n",
    "        # 遍历文件\n",
    "        for f in files:\n",
    "            print(os.path.join(root, f))\n",
    "        # 遍历所有的文件夹\n",
    "        for d in dirs:\n",
    "            print(os.path.join(root, d))"
   ]
  },
  {
   "cell_type": "code",
   "execution_count": 29,
   "id": "258fe81a-4c5b-4db7-8d78-de213cc59d35",
   "metadata": {},
   "outputs": [
    {
     "name": "stdout",
     "output_type": "stream",
     "text": [
      "/FILE_related/close_free/fog.md\n",
      "/FILE_related/FILE攻击的一些进阶操作(待补充)/FILE攻击的一些进阶操作(待补充).md\n",
      "/FILE_related/FILE结构体概述/FILE结构体概述.md\n",
      "/FILE_related/FSOP/FSOP.md\n",
      "/FILE_related/vtable伪造/vtable伪造.md\n",
      "/fmt/fmt/fmt.md\n",
      "/fmt/fmtstr模块/fmtstr模块.md\n",
      "/fmt/格式化字符串中的占位符特殊用法/格式化字符串中的占位符特殊用法.md\n",
      "/heap_related/house of botcake/house of botcake.md\n",
      "/heap_related/House of Einherjar/House of Einherjar.md\n",
      "/heap_related/House Of Force/House Of Force.md\n",
      "/heap_related/House of lore/House of lore.md\n",
      "/heap_related/House of Orange/House of Orange.md\n",
      "/heap_related/House of storm/House of storm.md\n",
      "/heap_related/how2heap学习/how2heap解析.md\n",
      "/heap_related/large bin attack/large bin attack.md\n",
      "/heap_related/ptmalloc_check/ptmalloc_check.md\n",
      "/heap_related/unlink攻击敏感指针/unlink攻击敏感指针.md\n",
      "/heap_related/unsorted_bin相关攻击/unsorted_bin相关攻击.md\n",
      "/heap_related/_IO_2_1_stdout_泄露内存/_IO_2_1_stdout_泄露内存.md\n",
      "/pwn基础/gdb使用/gdb使用.md\n",
      "/pwn基础/glibc更换(patchelf方法)/glibc更换(patchelf方法).md\n",
      "/pwn基础/linux系统调用号查询/linux系统调用号查询.md\n",
      "/pwn基础/pwn题编译时的保护选项/pwn题编译时的保护选项.md\n",
      "/rop/dl_runtime_resolve/dl_runtime_resolve.md\n",
      "/rop/dl_runtime_resolve(64位)/dl_runtime_resolve(64位).md\n",
      "/rop/ret2csu/ret2csu.md\n",
      "/rop/Ret2dlresolvePayload使用/Ret2dlresolvePayload使用.md\n",
      "/rop/srop/srop.md\n",
      "/rop/通过mmap&mprotect来绕过nx/通过mmap&mprotect来绕过nx.md\n",
      "/沙箱/glibc2.27下堆题绕过沙箱/glibc2.27下堆题绕过沙箱.md\n",
      "/沙箱/glibc2.29下堆题绕过沙箱/glibc2.29下堆题绕过沙箱.md\n",
      "/沙箱/glibc2.31下堆题绕过沙箱/glibc2.31下堆题绕过沙箱.md\n",
      "/沙箱/seccomp&ptcl/seccomp&ptcl.md\n"
     ]
    }
   ],
   "source": [
    "for root, dirs, files in os.walk(\".\\\\\"):\n",
    "    # root 表示当前访问的文件夹路径\n",
    "    # dirs 表示该文件夹下的子目录名list\n",
    "    # files 表示该文件夹下的文件list\n",
    "    # 遍历文件\n",
    "    for f in files:\n",
    "        if '.md' in f and f!='README.md':\n",
    "            target_path = os.path.join(root, f)\n",
    "            target_path = target_path[1:].replace('\\\\','/')\n",
    "            print()\n",
    "    # 遍历所有的文件夹\n",
    "    # for d in dirs:\n",
    "    #     print(os.path.join(root, d))"
   ]
  }
 ],
 "metadata": {
  "kernelspec": {
   "display_name": "Python 3 (ipykernel)",
   "language": "python",
   "name": "python3"
  },
  "language_info": {
   "codemirror_mode": {
    "name": "ipython",
    "version": 3
   },
   "file_extension": ".py",
   "mimetype": "text/x-python",
   "name": "python",
   "nbconvert_exporter": "python",
   "pygments_lexer": "ipython3",
   "version": "3.9.12"
  }
 },
 "nbformat": 4,
 "nbformat_minor": 5
}
