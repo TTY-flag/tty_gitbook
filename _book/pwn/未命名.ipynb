{
 "cells": [
  {
   "cell_type": "code",
   "execution_count": 12,
   "id": "48474f50-0578-4c0f-aaca-b6be47ec9c7a",
   "metadata": {},
   "outputs": [],
   "source": [
    "import os\n",
    "def walkFile(file):\n",
    "\n",
    "    for root, dirs, files in os.walk(file):\n",
    "        # root 表示当前访问的文件夹路径\n",
    "        # dirs 表示该文件夹下的子目录名list\n",
    "        # files 表示该文件夹下的文件list\n",
    "        # 遍历文件\n",
    "        for f in files:\n",
    "            print(os.path.join(root, f))\n",
    "        # 遍历所有的文件夹\n",
    "        for d in dirs:\n",
    "            print(os.path.join(root, d))"
   ]
  },
  {
   "cell_type": "code",
   "execution_count": 40,
   "id": "258fe81a-4c5b-4db7-8d78-de213cc59d35",
   "metadata": {},
   "outputs": [
    {
     "name": "stdout",
     "output_type": "stream",
     "text": [
      "- [fog.md](pwn/FILE_related/close_free/fog.md)\n",
      "- [FILE攻击的一些进阶操作(待补充).md](pwn/FILE_related/FILE攻击的一些进阶操作(待补充)/FILE攻击的一些进阶操作(待补充).md)\n",
      "- [FILE结构体概述.md](pwn/FILE_related/FILE结构体概述/FILE结构体概述.md)\n",
      "- [FSOP.md](pwn/FILE_related/FSOP/FSOP.md)\n",
      "- [vtable伪造.md](pwn/FILE_related/vtable伪造/vtable伪造.md)\n",
      "- [fmt.md](pwn/fmt/fmt/fmt.md)\n",
      "- [fmtstr模块.md](pwn/fmt/fmtstr模块/fmtstr模块.md)\n",
      "- [格式化字符串中的占位符特殊用法.md](pwn/fmt/格式化字符串中的占位符特殊用法/格式化字符串中的占位符特殊用法.md)\n",
      "- [house_of_botcake.md](pwn/heap_related/house_of_botcake/house_of_botcake.md)\n",
      "- [House_of_Einherjar.md](pwn/heap_related/House_of_Einherjar/House_of_Einherjar.md)\n",
      "- [House_Of_Force.md](pwn/heap_related/House_Of_Force/House_Of_Force.md)\n",
      "- [House_of_lore.md](pwn/heap_related/House_of_lore/House_of_lore.md)\n",
      "- [House_of_Orange.md](pwn/heap_related/House_of_Orange/House_of_Orange.md)\n",
      "- [House_of_storm.md](pwn/heap_related/House_of_storm/House_of_storm.md)\n",
      "- [how2heap解析.md](pwn/heap_related/how2heap学习/how2heap解析.md)\n",
      "- [large_bin_attack.md](pwn/heap_related/large_bin_attack/large_bin_attack.md)\n",
      "- [ptmalloc_check.md](pwn/heap_related/ptmalloc_check/ptmalloc_check.md)\n",
      "- [unlink攻击敏感指针.md](pwn/heap_related/unlink攻击敏感指针/unlink攻击敏感指针.md)\n",
      "- [unsorted_bin相关攻击.md](pwn/heap_related/unsorted_bin相关攻击/unsorted_bin相关攻击.md)\n",
      "- [_IO_2_1_stdout_泄露内存.md](pwn/heap_related/_IO_2_1_stdout_泄露内存/_IO_2_1_stdout_泄露内存.md)\n",
      "- [gdb使用.md](pwn/pwn基础/gdb使用/gdb使用.md)\n",
      "- [glibc更换(patchelf方法).md](pwn/pwn基础/glibc更换(patchelf方法)/glibc更换(patchelf方法).md)\n",
      "- [linux系统调用号查询.md](pwn/pwn基础/linux系统调用号查询/linux系统调用号查询.md)\n",
      "- [pwn题编译时的保护选项.md](pwn/pwn基础/pwn题编译时的保护选项/pwn题编译时的保护选项.md)\n",
      "- [dl_runtime_resolve.md](pwn/rop/dl_runtime_resolve/dl_runtime_resolve.md)\n",
      "- [dl_runtime_resolve(64位).md](pwn/rop/dl_runtime_resolve(64位)/dl_runtime_resolve(64位).md)\n",
      "- [ret2csu.md](pwn/rop/ret2csu/ret2csu.md)\n",
      "- [Ret2dlresolvePayload使用.md](pwn/rop/Ret2dlresolvePayload使用/Ret2dlresolvePayload使用.md)\n",
      "- [srop.md](pwn/rop/srop/srop.md)\n",
      "- [通过mmap&mprotect来绕过nx.md](pwn/rop/通过mmap&mprotect来绕过nx/通过mmap&mprotect来绕过nx.md)\n",
      "- [glibc2.27下堆题绕过沙箱.md](pwn/沙箱/glibc2.27下堆题绕过沙箱/glibc2.27下堆题绕过沙箱.md)\n",
      "- [glibc2.29下堆题绕过沙箱.md](pwn/沙箱/glibc2.29下堆题绕过沙箱/glibc2.29下堆题绕过沙箱.md)\n",
      "- [glibc2.31下堆题绕过沙箱.md](pwn/沙箱/glibc2.31下堆题绕过沙箱/glibc2.31下堆题绕过沙箱.md)\n",
      "- [seccomp&ptcl.md](pwn/沙箱/seccomp&ptcl/seccomp&ptcl.md)\n"
     ]
    }
   ],
   "source": [
    "for root, dirs, files in os.walk(\".\\\\\"):\n",
    "    # root 表示当前访问的文件夹路径\n",
    "    # dirs 表示该文件夹下的子目录名list\n",
    "    # files 表示该文件夹下的文件list\n",
    "    # 遍历文件\n",
    "    for f in files:\n",
    "        if '.md' in f and f!='README.md':\n",
    "            target_path = os.path.join(root, f)\n",
    "            target_path = target_path[1:].replace('\\\\','/')\n",
    "            print('- [{}](pwn{})'.format(f,target_path))\n",
    "    # 遍历所有的文件夹\n",
    "    # for d in dirs:\n",
    "    #     print(os.path.join(root, d))"
   ]
  }
 ],
 "metadata": {
  "kernelspec": {
   "display_name": "Python 3 (ipykernel)",
   "language": "python",
   "name": "python3"
  },
  "language_info": {
   "codemirror_mode": {
    "name": "ipython",
    "version": 3
   },
   "file_extension": ".py",
   "mimetype": "text/x-python",
   "name": "python",
   "nbconvert_exporter": "python",
   "pygments_lexer": "ipython3",
   "version": "3.9.12"
  }
 },
 "nbformat": 4,
 "nbformat_minor": 5
}
